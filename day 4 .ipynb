{
 "cells": [
  {
   "cell_type": "code",
   "execution_count": null,
   "id": "24b0f376",
   "metadata": {},
   "outputs": [],
   "source": [
    "how to declare the list datatypes"
   ]
  },
  {
   "cell_type": "code",
   "execution_count": 5,
   "id": "d5c47d9f",
   "metadata": {},
   "outputs": [],
   "source": [
    "students=['ravi','naveen','joseph','abdul','kavitha','rohi'] #0,1,2,3,4,5"
   ]
  },
  {
   "cell_type": "code",
   "execution_count": 6,
   "id": "75f7012d",
   "metadata": {},
   "outputs": [
    {
     "name": "stdout",
     "output_type": "stream",
     "text": [
      "['ravi', 'naveen', 'joseph', 'abdul', 'kavitha', 'rohi']\n"
     ]
    }
   ],
   "source": [
    "print(students)"
   ]
  },
  {
   "cell_type": "code",
   "execution_count": null,
   "id": "550e28a4",
   "metadata": {},
   "outputs": [],
   "source": [
    "#how to access the elements from the above list .....?"
   ]
  },
  {
   "cell_type": "code",
   "execution_count": null,
   "id": "04797726",
   "metadata": {},
   "outputs": [],
   "source": [
    "understanding the concept of ndexing ? 0,1,2,3,4....."
   ]
  },
  {
   "cell_type": "code",
   "execution_count": null,
   "id": "cda8da36",
   "metadata": {},
   "outputs": [],
   "source": [
    "#req: i want to access naveen in the output.."
   ]
  },
  {
   "cell_type": "code",
   "execution_count": 7,
   "id": "4c65533e",
   "metadata": {},
   "outputs": [
    {
     "name": "stdout",
     "output_type": "stream",
     "text": [
      "naveen\n"
     ]
    }
   ],
   "source": [
    "print(students[1])"
   ]
  },
  {
   "cell_type": "code",
   "execution_count": 9,
   "id": "4287c170",
   "metadata": {},
   "outputs": [
    {
     "name": "stdout",
     "output_type": "stream",
     "text": [
      "Naveen\n"
     ]
    }
   ],
   "source": [
    "print(students[1].title())"
   ]
  },
  {
   "cell_type": "code",
   "execution_count": null,
   "id": "2ca4da8c",
   "metadata": {},
   "outputs": [],
   "source": [
    "#req: i want to access naveen name in the output...."
   ]
  },
  {
   "cell_type": "code",
   "execution_count": 10,
   "id": "488bfa77",
   "metadata": {},
   "outputs": [
    {
     "name": "stdout",
     "output_type": "stream",
     "text": [
      "Kavitha\n"
     ]
    }
   ],
   "source": [
    "print (students[4].title())"
   ]
  },
  {
   "cell_type": "code",
   "execution_count": null,
   "id": "f306befd",
   "metadata": {},
   "outputs": [],
   "source": [
    "1. how to add new elements to he list ...?"
   ]
  },
  {
   "cell_type": "code",
   "execution_count": null,
   "id": "8d1a3959",
   "metadata": {},
   "outputs": [],
   "source": [
    "2. how to modify the elements in the list ...?"
   ]
  },
  {
   "cell_type": "code",
   "execution_count": null,
   "id": "5f2db006",
   "metadata": {},
   "outputs": [],
   "source": [
    "3.how to delete the elements in the list ...?"
   ]
  },
  {
   "cell_type": "code",
   "execution_count": null,
   "id": "43211dd9",
   "metadata": {},
   "outputs": [],
   "source": [
    "#req : i want to add name to the above list..?"
   ]
  },
  {
   "cell_type": "code",
   "execution_count": 11,
   "id": "6e31a7b8",
   "metadata": {},
   "outputs": [],
   "source": [
    "students.append('kumar')\n"
   ]
  },
  {
   "cell_type": "code",
   "execution_count": 12,
   "id": "c961705e",
   "metadata": {},
   "outputs": [
    {
     "name": "stdout",
     "output_type": "stream",
     "text": [
      "['ravi', 'naveen', 'joseph', 'abdul', 'kavitha', 'rohi', 'kumar']\n"
     ]
    }
   ],
   "source": [
    "print(students)"
   ]
  },
  {
   "cell_type": "code",
   "execution_count": null,
   "id": "8e7f9a2a",
   "metadata": {},
   "outputs": [],
   "source": [
    "#req: to add john"
   ]
  },
  {
   "cell_type": "code",
   "execution_count": 13,
   "id": "34d40fcb",
   "metadata": {},
   "outputs": [],
   "source": [
    "students.append('john')"
   ]
  },
  {
   "cell_type": "code",
   "execution_count": 14,
   "id": "5bdcf30a",
   "metadata": {},
   "outputs": [
    {
     "name": "stdout",
     "output_type": "stream",
     "text": [
      "['ravi', 'naveen', 'joseph', 'abdul', 'kavitha', 'rohi', 'kumar', 'john']\n"
     ]
    }
   ],
   "source": [
    "print(students)"
   ]
  },
  {
   "cell_type": "code",
   "execution_count": null,
   "id": "5b985221",
   "metadata": {},
   "outputs": [],
   "source": [
    "#req: i want to add keerthi to the 2nd index position ...?"
   ]
  },
  {
   "cell_type": "code",
   "execution_count": 16,
   "id": "085dee91",
   "metadata": {},
   "outputs": [],
   "source": [
    "students.insert(2,'keerthi')\n",
    "\n"
   ]
  },
  {
   "cell_type": "code",
   "execution_count": 17,
   "id": "eb4b56fb",
   "metadata": {},
   "outputs": [
    {
     "name": "stdout",
     "output_type": "stream",
     "text": [
      "['ravi', 'naveen', 'keerthi', 'joseph', 'abdul', 'kavitha', 'rohi', 'kumar', 'john']\n"
     ]
    }
   ],
   "source": [
    "print(students)"
   ]
  },
  {
   "cell_type": "code",
   "execution_count": 18,
   "id": "2c60d9c6",
   "metadata": {},
   "outputs": [
    {
     "name": "stdout",
     "output_type": "stream",
     "text": [
      "keerthi\n"
     ]
    }
   ],
   "source": [
    "print(students[2])"
   ]
  },
  {
   "cell_type": "code",
   "execution_count": null,
   "id": "c6408505",
   "metadata": {},
   "outputs": [],
   "source": [
    "interview question: what is the diff bet append and insert method in the list ...?"
   ]
  },
  {
   "cell_type": "code",
   "execution_count": null,
   "id": "0365622e",
   "metadata": {},
   "outputs": [],
   "source": [
    "how to modify the elements in the list ...?"
   ]
  },
  {
   "cell_type": "code",
   "execution_count": 19,
   "id": "c73724ce",
   "metadata": {},
   "outputs": [
    {
     "name": "stdout",
     "output_type": "stream",
     "text": [
      "['ravi', 'naveen', 'keerthi', 'joseph', 'abdul', 'kavitha', 'rohi', 'kumar', 'john']\n"
     ]
    }
   ],
   "source": [
    "print(students)"
   ]
  },
  {
   "cell_type": "code",
   "execution_count": null,
   "id": "649d5f89",
   "metadata": {},
   "outputs": [],
   "source": [
    "#req: i want to modify naveen name to berlin "
   ]
  },
  {
   "cell_type": "code",
   "execution_count": 20,
   "id": "440b37cc",
   "metadata": {},
   "outputs": [],
   "source": [
    "students[1]='berlin'"
   ]
  },
  {
   "cell_type": "code",
   "execution_count": 21,
   "id": "4e3ced8c",
   "metadata": {},
   "outputs": [
    {
     "name": "stdout",
     "output_type": "stream",
     "text": [
      "['ravi', 'berlin', 'keerthi', 'joseph', 'abdul', 'kavitha', 'rohi', 'kumar', 'john']\n"
     ]
    }
   ],
   "source": [
    "print(students)"
   ]
  },
  {
   "cell_type": "code",
   "execution_count": null,
   "id": "0dcac156",
   "metadata": {},
   "outputs": [],
   "source": [
    "how to delete the elements from the list ?"
   ]
  },
  {
   "cell_type": "code",
   "execution_count": 22,
   "id": "84890a11",
   "metadata": {},
   "outputs": [
    {
     "name": "stdout",
     "output_type": "stream",
     "text": [
      "['ravi', 'berlin', 'keerthi', 'joseph', 'abdul', 'kavitha', 'rohi', 'kumar', 'john']\n"
     ]
    }
   ],
   "source": [
    "print(students)"
   ]
  },
  {
   "cell_type": "code",
   "execution_count": null,
   "id": "c30545f6",
   "metadata": {},
   "outputs": [],
   "source": [
    "#req: i want to delete ravi from the above list ..?"
   ]
  },
  {
   "cell_type": "code",
   "execution_count": 24,
   "id": "af93c9c0",
   "metadata": {},
   "outputs": [],
   "source": [
    "del students[0]"
   ]
  },
  {
   "cell_type": "code",
   "execution_count": 25,
   "id": "5c6706d3",
   "metadata": {},
   "outputs": [
    {
     "name": "stdout",
     "output_type": "stream",
     "text": [
      "['berlin', 'keerthi', 'joseph', 'abdul', 'kavitha', 'rohi', 'kumar', 'john']\n"
     ]
    }
   ],
   "source": [
    "print(students)"
   ]
  },
  {
   "cell_type": "code",
   "execution_count": null,
   "id": "5a082127",
   "metadata": {},
   "outputs": [],
   "source": []
  }
 ],
 "metadata": {
  "kernelspec": {
   "display_name": "Python 3 (ipykernel)",
   "language": "python",
   "name": "python3"
  },
  "language_info": {
   "codemirror_mode": {
    "name": "ipython",
    "version": 3
   },
   "file_extension": ".py",
   "mimetype": "text/x-python",
   "name": "python",
   "nbconvert_exporter": "python",
   "pygments_lexer": "ipython3",
   "version": "3.9.12"
  }
 },
 "nbformat": 4,
 "nbformat_minor": 5
}
