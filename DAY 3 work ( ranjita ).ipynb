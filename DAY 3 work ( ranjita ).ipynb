{
 "cells": [
  {
   "cell_type": "code",
   "execution_count": 1,
   "id": "354f348a",
   "metadata": {},
   "outputs": [],
   "source": [
    "first_name ='vijay'"
   ]
  },
  {
   "cell_type": "code",
   "execution_count": 2,
   "id": "950802a7",
   "metadata": {},
   "outputs": [],
   "source": [
    "last_name='kumar'"
   ]
  },
  {
   "cell_type": "code",
   "execution_count": 7,
   "id": "a7ecc377",
   "metadata": {},
   "outputs": [],
   "source": [
    "#req: i want to ge the full name ...?"
   ]
  },
  {
   "cell_type": "code",
   "execution_count": 12,
   "id": "c7a9ac06",
   "metadata": {},
   "outputs": [],
   "source": [
    "full_name= f\"{first_name} {last_name}\""
   ]
  },
  {
   "cell_type": "code",
   "execution_count": 13,
   "id": "ed075e43",
   "metadata": {},
   "outputs": [
    {
     "name": "stdout",
     "output_type": "stream",
     "text": [
      "vijay kumar\n"
     ]
    }
   ],
   "source": [
    "print(full_name)"
   ]
  },
  {
   "cell_type": "code",
   "execution_count": 14,
   "id": "558d6547",
   "metadata": {},
   "outputs": [
    {
     "name": "stdout",
     "output_type": "stream",
     "text": [
      "Vijay Kumar\n"
     ]
    }
   ],
   "source": [
    "print(full_name.title())"
   ]
  },
  {
   "cell_type": "code",
   "execution_count": 31,
   "id": "f2365a8b",
   "metadata": {},
   "outputs": [],
   "source": [
    "message = f\"keep up the good work,{(full_name.title())}\""
   ]
  },
  {
   "cell_type": "code",
   "execution_count": 32,
   "id": "798f1dc8",
   "metadata": {},
   "outputs": [
    {
     "name": "stdout",
     "output_type": "stream",
     "text": [
      "keep up the good work,Vijay Kumar\n"
     ]
    }
   ],
   "source": [
    "print(message)\n"
   ]
  },
  {
   "cell_type": "code",
   "execution_count": null,
   "id": "7138ff73",
   "metadata": {},
   "outputs": [],
   "source": [
    "adding whitespaces to strings :"
   ]
  },
  {
   "cell_type": "code",
   "execution_count": 33,
   "id": "4fef2481",
   "metadata": {},
   "outputs": [
    {
     "name": "stdout",
     "output_type": "stream",
     "text": [
      "favourite_language :pythonjavac++swiftcobal\n"
     ]
    }
   ],
   "source": [
    "print(\"favourite_language :pythonjavac++swiftcobal\")\n"
   ]
  },
  {
   "cell_type": "code",
   "execution_count": 35,
   "id": "e1076494",
   "metadata": {},
   "outputs": [
    {
     "name": "stdout",
     "output_type": "stream",
     "text": [
      "favourite _language: \n",
      "python\n",
      "java\n",
      "c++\n",
      "swift\n",
      "cobal\n"
     ]
    }
   ],
   "source": [
    "print(\"favourite _language: \\npython\\njava\\nc++\\nswift\\ncobal\")"
   ]
  },
  {
   "cell_type": "code",
   "execution_count": null,
   "id": "adfaab46",
   "metadata": {},
   "outputs": [],
   "source": [
    "\\n=new line delimiter"
   ]
  },
  {
   "cell_type": "code",
   "execution_count": 59,
   "id": "c53f9c17",
   "metadata": {},
   "outputs": [
    {
     "name": "stdout",
     "output_type": "stream",
     "text": [
      "favourite _language:\n",
      "\tpython\n",
      "\tjava\n",
      "\tc++\n",
      "\tswift\n",
      "\tcobal\n"
     ]
    }
   ],
   "source": [
    "print(\"favourite _language:\\n\\tpython\\n\\tjava\\n\\tc++\\n\\tswift\\n\\tcobal\")"
   ]
  },
  {
   "cell_type": "code",
   "execution_count": null,
   "id": "101968f9",
   "metadata": {},
   "outputs": [],
   "source": [
    "\\t= tab delimiter"
   ]
  },
  {
   "cell_type": "code",
   "execution_count": null,
   "id": "5f0e5afa",
   "metadata": {},
   "outputs": [],
   "source": [
    "how to remove whitespaces from the strings:"
   ]
  },
  {
   "cell_type": "code",
   "execution_count": 47,
   "id": "e6e82599",
   "metadata": {},
   "outputs": [],
   "source": [
    "name ='python'"
   ]
  },
  {
   "cell_type": "code",
   "execution_count": 48,
   "id": "4991fd6f",
   "metadata": {},
   "outputs": [
    {
     "name": "stdout",
     "output_type": "stream",
     "text": [
      "python\n"
     ]
    }
   ],
   "source": [
    "print(name)"
   ]
  },
  {
   "cell_type": "code",
   "execution_count": 49,
   "id": "9a91624c",
   "metadata": {},
   "outputs": [],
   "source": [
    "name2=\"   python\""
   ]
  },
  {
   "cell_type": "code",
   "execution_count": 50,
   "id": "b828edd5",
   "metadata": {},
   "outputs": [
    {
     "name": "stdout",
     "output_type": "stream",
     "text": [
      "   python\n"
     ]
    }
   ],
   "source": [
    "print(name2)"
   ]
  },
  {
   "cell_type": "code",
   "execution_count": 51,
   "id": "c3ffa561",
   "metadata": {},
   "outputs": [],
   "source": [
    "name3=\"python    \""
   ]
  },
  {
   "cell_type": "code",
   "execution_count": 52,
   "id": "aef1b0ef",
   "metadata": {},
   "outputs": [
    {
     "name": "stdout",
     "output_type": "stream",
     "text": [
      "python   \n"
     ]
    }
   ],
   "source": [
    "print(name3)"
   ]
  },
  {
   "cell_type": "code",
   "execution_count": 53,
   "id": "30e0d6ea",
   "metadata": {},
   "outputs": [
    {
     "data": {
      "text/plain": [
       "'python'"
      ]
     },
     "execution_count": 53,
     "metadata": {},
     "output_type": "execute_result"
    }
   ],
   "source": [
    "name2.lstrip()     #lstrip----- left side elimination"
   ]
  },
  {
   "cell_type": "code",
   "execution_count": 54,
   "id": "0f49523b",
   "metadata": {},
   "outputs": [
    {
     "data": {
      "text/plain": [
       "'python'"
      ]
     },
     "execution_count": 54,
     "metadata": {},
     "output_type": "execute_result"
    }
   ],
   "source": [
    "name3.rstrip()     #r strip----- right side elimination"
   ]
  },
  {
   "cell_type": "code",
   "execution_count": 55,
   "id": "da5dbc03",
   "metadata": {},
   "outputs": [],
   "source": [
    "name4= \"   python    \""
   ]
  },
  {
   "cell_type": "code",
   "execution_count": 56,
   "id": "6cee16d7",
   "metadata": {},
   "outputs": [
    {
     "name": "stdout",
     "output_type": "stream",
     "text": [
      "   python    \n"
     ]
    }
   ],
   "source": [
    "print(name4)"
   ]
  },
  {
   "cell_type": "code",
   "execution_count": 58,
   "id": "3a8da87c",
   "metadata": {},
   "outputs": [
    {
     "data": {
      "text/plain": [
       "'python'"
      ]
     },
     "execution_count": 58,
     "metadata": {},
     "output_type": "execute_result"
    }
   ],
   "source": [
    "name4.strip()    #search opertion--- elimination"
   ]
  },
  {
   "cell_type": "code",
   "execution_count": null,
   "id": "7ed1c20d",
   "metadata": {},
   "outputs": [],
   "source": []
  }
 ],
 "metadata": {
  "kernelspec": {
   "display_name": "Python 3 (ipykernel)",
   "language": "python",
   "name": "python3"
  },
  "language_info": {
   "codemirror_mode": {
    "name": "ipython",
    "version": 3
   },
   "file_extension": ".py",
   "mimetype": "text/x-python",
   "name": "python",
   "nbconvert_exporter": "python",
   "pygments_lexer": "ipython3",
   "version": "3.9.12"
  }
 },
 "nbformat": 4,
 "nbformat_minor": 5
}
